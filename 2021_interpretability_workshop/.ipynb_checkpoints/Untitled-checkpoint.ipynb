{
 "cells": [
  {
   "cell_type": "code",
   "execution_count": 14,
   "metadata": {},
   "outputs": [
    {
     "data": {
      "text/plain": [
       "array([[-0.29792942, -0.58056355, -0.3109406 , -0.377129  , -0.11984232,\n",
       "         0.42855478, -0.71131106, -0.85371164, -0.46688191,  0.11762548,\n",
       "        -1.38262136,  0.0899184 , -0.94778563, -0.94686238,  0.18575731,\n",
       "         0.99305313,  0.11090349, -0.3458275 ,  0.20290919,  0.80470317,\n",
       "        -0.91626377, -0.91726667, -0.8159834 , -0.86539197, -0.45539191,\n",
       "         0.10347391, -0.83009341, -0.98445173, -0.5920036 , -0.61086989]])"
      ]
     },
     "execution_count": 14,
     "metadata": {},
     "output_type": "execute_result"
    }
   ],
   "source": [
    "from sklearn.datasets import load_breast_cancer\n",
    "from sklearn.pipeline import make_pipeline\n",
    "from sklearn.preprocessing import StandardScaler\n",
    "from sklearn.linear_model import LogisticRegression\n",
    "from sklearn.model_selection import train_test_split\n",
    "\n",
    "X, y = load_breast_cancer(return_X_y=True, as_frame=True)\n",
    "X_train, X_test, y_train, y_test = train_test_split(\n",
    "    X, y, random_state=0)\n",
    "model = make_pipeline(\n",
    "    StandardScaler(), LogisticRegression())\n",
    "model.fit(X_train, y_train)\n",
    "model[-1].coef_"
   ]
  },
  {
   "cell_type": "code",
   "execution_count": 20,
   "metadata": {},
   "outputs": [
    {
     "data": {
      "text/plain": [
       "'<table border=\"1\" class=\"dataframe\">\\n  <thead>\\n    <tr style=\"text-align: right;\">\\n      <th></th>\\n      <th>mean radius</th>\\n      <th>mean texture</th>\\n      <th>mean perimeter</th>\\n      <th>mean area</th>\\n      <th>mean smoothness</th>\\n      <th>mean compactness</th>\\n      <th>mean concavity</th>\\n      <th>mean concave points</th>\\n      <th>mean symmetry</th>\\n      <th>mean fractal dimension</th>\\n      <th>radius error</th>\\n      <th>texture error</th>\\n      <th>perimeter error</th>\\n      <th>area error</th>\\n      <th>smoothness error</th>\\n      <th>compactness error</th>\\n      <th>concavity error</th>\\n      <th>concave points error</th>\\n      <th>symmetry error</th>\\n      <th>fractal dimension error</th>\\n      <th>worst radius</th>\\n      <th>worst texture</th>\\n      <th>worst perimeter</th>\\n      <th>worst area</th>\\n      <th>worst smoothness</th>\\n      <th>worst compactness</th>\\n      <th>worst concavity</th>\\n      <th>worst concave points</th>\\n      <th>worst symmetry</th>\\n      <th>worst fractal dimension</th>\\n    </tr>\\n  </thead>\\n  <tbody>\\n    <tr>\\n      <th>0</th>\\n      <td>-0.297929</td>\\n      <td>-0.580564</td>\\n      <td>-0.310941</td>\\n      <td>-0.377129</td>\\n      <td>-0.119842</td>\\n      <td>0.428555</td>\\n      <td>-0.711311</td>\\n      <td>-0.853712</td>\\n      <td>-0.466882</td>\\n      <td>0.117625</td>\\n      <td>-1.382621</td>\\n      <td>0.089918</td>\\n      <td>-0.947786</td>\\n      <td>-0.946862</td>\\n      <td>0.185757</td>\\n      <td>0.993053</td>\\n      <td>0.110903</td>\\n      <td>-0.345828</td>\\n      <td>0.202909</td>\\n      <td>0.804703</td>\\n      <td>-0.916264</td>\\n      <td>-0.917267</td>\\n      <td>-0.815983</td>\\n      <td>-0.865392</td>\\n      <td>-0.455392</td>\\n      <td>0.103474</td>\\n      <td>-0.830093</td>\\n      <td>-0.984452</td>\\n      <td>-0.592004</td>\\n      <td>-0.61087</td>\\n    </tr>\\n  </tbody>\\n</table>'"
      ]
     },
     "execution_count": 20,
     "metadata": {},
     "output_type": "execute_result"
    }
   ],
   "source": [
    "import pandas as pd\n",
    "\n",
    "pd.DataFrame(model[-1].coef_, columns=X.columns).to_html()"
   ]
  },
  {
   "cell_type": "code",
   "execution_count": 1,
   "metadata": {},
   "outputs": [],
   "source": [
    "from sklearn.datasets import fetch_openml\n",
    "\n",
    "survey = fetch_openml(data_id=534, as_frame=True)"
   ]
  },
  {
   "cell_type": "code",
   "execution_count": 2,
   "metadata": {},
   "outputs": [],
   "source": [
    "from sklearn.compose import make_column_transformer\n",
    "from sklearn.preprocessing import OneHotEncoder\n",
    "\n",
    "categorical_columns = ['RACE', 'OCCUPATION', 'SECTOR',\n",
    "                       'MARR', 'UNION', 'SEX', 'SOUTH']\n",
    "numerical_columns = ['EDUCATION', 'EXPERIENCE', 'AGE']\n",
    "\n",
    "preprocessor = make_column_transformer(\n",
    "    (OneHotEncoder(drop='if_binary'), categorical_columns),\n",
    "    remainder='passthrough'\n",
    ")"
   ]
  },
  {
   "cell_type": "code",
   "execution_count": 5,
   "metadata": {},
   "outputs": [],
   "source": [
    "import numpy as np\n",
    "import scipy as sp\n",
    "from sklearn.pipeline import make_pipeline\n",
    "from sklearn.linear_model import Ridge\n",
    "from sklearn.compose import TransformedTargetRegressor\n",
    "\n",
    "model = make_pipeline(\n",
    "    preprocessor,\n",
    "    TransformedTargetRegressor(\n",
    "        regressor=Ridge(alpha=1e-10),\n",
    "        func=np.log10,\n",
    "        inverse_func=sp.special.exp10\n",
    "    )\n",
    ")"
   ]
  },
  {
   "cell_type": "code",
   "execution_count": null,
   "metadata": {},
   "outputs": [],
   "source": []
  }
 ],
 "metadata": {
  "kernelspec": {
   "display_name": "Python 3",
   "language": "python",
   "name": "python3"
  },
  "language_info": {
   "codemirror_mode": {
    "name": "ipython",
    "version": 3
   },
   "file_extension": ".py",
   "mimetype": "text/x-python",
   "name": "python",
   "nbconvert_exporter": "python",
   "pygments_lexer": "ipython3",
   "version": "3.8.5"
  }
 },
 "nbformat": 4,
 "nbformat_minor": 4
}
